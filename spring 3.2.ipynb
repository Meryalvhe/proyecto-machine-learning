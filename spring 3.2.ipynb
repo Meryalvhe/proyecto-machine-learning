{
 "cells": [
  {
   "cell_type": "markdown",
   "id": "c6d1f1e2-8faa-4953-aab9-530f3983cb2c",
   "metadata": {},
   "source": [
    "# Proyecto de ML para predecir clientes potenciales de prestamos Bancaña"
   ]
  },
  {
   "cell_type": "markdown",
   "id": "0aa5ee27-acd2-40d2-ac99-574f38e4827b",
   "metadata": {},
   "source": [
    "### Introducción"
   ]
  },
  {
   "cell_type": "markdown",
   "id": "3f54041f-29aa-4b7b-aa30-2608225bbd65",
   "metadata": {},
   "source": [
    "Se trata de una entidad bancaria ''Bancaña'' que busca identificar clientes potenciales mediante los datos obtenidos de su última campaña de carteras."
   ]
  },
  {
   "cell_type": "markdown",
   "id": "92942d50-dddf-405e-bb1f-9948304dcd4b",
   "metadata": {},
   "source": [
    "### Objetivos del proyecto"
   ]
  },
  {
   "cell_type": "markdown",
   "id": "a51bbe3f-efe7-4eec-9584-70fff81d5991",
   "metadata": {},
   "source": [
    "1. ¿Cuáles son los objetivos del negocio?"
   ]
  },
  {
   "cell_type": "markdown",
   "id": "199b7b49-facc-4d67-8269-d094ec50dce1",
   "metadata": {},
   "source": [
    "El objetivo de negocio de Bancaña es aumentar el número de clientes que adquieran productos de cartera utilizando los datos de su última campaña, buscando así incrementar la conversión de clientes potenciales, mediante la optimización de estrategias de marketing. "
   ]
  },
  {
   "cell_type": "markdown",
   "id": "8ddea749-5aab-49ca-8f2d-be5fe3b29269",
   "metadata": {},
   "source": [
    "2. ¿Qué decisiones o procesos específicos desea mejorar o automatizar con \n",
    "ML?"
   ]
  },
  {
   "cell_type": "markdown",
   "id": "29acb809-c0d4-440c-b058-035d70392f8a",
   "metadata": {},
   "source": [
    "Bancaña busca mediante la implementación de ML identificar los clientes potenciales mediante la segmentación de estos."
   ]
  },
  {
   "cell_type": "markdown",
   "id": "0ea11f82-1d57-452c-b717-0c71791949a2",
   "metadata": {},
   "source": [
    "3. ¿Se podría solucionar el problema de forma no automatizada? "
   ]
  },
  {
   "cell_type": "markdown",
   "id": "f1525029-e740-404d-868e-0a41db4128ce",
   "metadata": {},
   "source": [
    "Sí, existen un sin número de soluciones manuales para la identificación de clientes potenciales; sin embargo, esto implica una gran cantidad de limitaciones y desafíos que pueden ser solucionados medíante ML. "
   ]
  },
  {
   "cell_type": "markdown",
   "id": "b0426c91-1103-45d9-82cf-2ca6b559e403",
   "metadata": {},
   "source": [
    "### Metodología Propuesta"
   ]
  },
  {
   "cell_type": "markdown",
   "id": "9e558ccc-4c53-403e-9ff3-174fa92f4023",
   "metadata": {},
   "source": [
    "4. ¿Cuál es el algoritmo de Machine Learning más adecuado para resolver este\n",
    "problema? ¿Cómo justifica la elección de ese algoritmo? ¿Qué métricas de\n",
    "evaluación se utilizarán para medir el rendimiento del modelo?"
   ]
  },
  {
   "cell_type": "markdown",
   "id": "fbec48a4-cd46-4781-aace-b1e0393a56bf",
   "metadata": {},
   "source": [
    "El algoritmo con el que trabajaremos será Random Forest, ya que es potente en la captura de relaciones complejas entre variable y puede ofrecer una precisión y estabilidad en la predicción, además nos permite interpretar los resultados de cara a la toma de decisiones mostrandonos las caracteristicas más influyentes de la prección.\n",
    "Entre las metricas de evaluación utilizaremos: Acurrancy para medir la proporción de predicciones correctas, Recall y Precision para evaluar las prediciones positivas. "
   ]
  },
  {
   "cell_type": "markdown",
   "id": "1f952a00-d3f0-40de-a91a-143019a9455d",
   "metadata": {},
   "source": [
    "### Datos Disponibles"
   ]
  },
  {
   "cell_type": "markdown",
   "id": "7f2de5bb-f65b-437d-8310-1cf45c681d67",
   "metadata": {},
   "source": [
    "5. ¿Qué datos están disponibles para abordar este problema?"
   ]
  },
  {
   "cell_type": "markdown",
   "id": "8377bf94-ac02-472b-8ca9-b8ecde311130",
   "metadata": {},
   "source": [
    "Tenemos todos los datos disponibles mediante recolección de campaña"
   ]
  },
  {
   "cell_type": "markdown",
   "id": "24960a55-6d61-4879-a1d2-dae577a7ead9",
   "metadata": {},
   "source": [
    "### Métrica de Éxito"
   ]
  },
  {
   "cell_type": "markdown",
   "id": "cd56500e-e4b1-4205-b701-623bc68dcd4d",
   "metadata": {},
   "source": [
    "6. ¿Cuál es la métrica de éxito para este proyecto?"
   ]
  },
  {
   "cell_type": "markdown",
   "id": "4c7ac835-51d8-4760-876e-3dd4d36f5c82",
   "metadata": {},
   "source": [
    "La métrica de exito de Bancaña es maximizar la conversión de clientes hacia productos de cartera (depósitos) de manera eficiente y rentable. "
   ]
  },
  {
   "cell_type": "markdown",
   "id": "729d8aff-4772-4d6c-bc1f-c3f8da699b3c",
   "metadata": {},
   "source": [
    "### Responsabilidades Éticas y Sociales"
   ]
  },
  {
   "cell_type": "markdown",
   "id": "0bc61439-7b9d-432a-a21e-2a87e1ec882c",
   "metadata": {},
   "source": [
    "7. ¿Qué responsabilidades éticas y sociales es importante tener en cuenta?"
   ]
  },
  {
   "cell_type": "markdown",
   "id": "89efab73-133f-40ac-b8e4-fea29b0b787d",
   "metadata": {},
   "source": [
    "Ya que involucramos datos personales en decisiones automarizada es crucial considerar varias responsabilidades eticas y sociales, tales como: \n",
    "- Privacidad y protección de datos.\n",
    "- Minimizar los riesgo de exclusión financiera.\n",
    "- Imparcialidad"
   ]
  }
 ],
 "metadata": {
  "kernelspec": {
   "display_name": "Python 3 (ipykernel)",
   "language": "python",
   "name": "python3"
  },
  "language_info": {
   "codemirror_mode": {
    "name": "ipython",
    "version": 3
   },
   "file_extension": ".py",
   "mimetype": "text/x-python",
   "name": "python",
   "nbconvert_exporter": "python",
   "pygments_lexer": "ipython3",
   "version": "3.12.4"
  }
 },
 "nbformat": 4,
 "nbformat_minor": 5
}
