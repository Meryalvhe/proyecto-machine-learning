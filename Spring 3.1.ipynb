{
 "cells": [
  {
   "cell_type": "markdown",
   "id": "fb702f0a-dbb9-473b-8a2e-7461a7df98b0",
   "metadata": {},
   "source": [
    "# Proyecto ML para identificar si las familias son aptas o no aptas para la recepción de ayudas o bonificaciones de alquiler."
   ]
  },
  {
   "cell_type": "markdown",
   "id": "12373578-317d-450a-b787-08b7593ff07a",
   "metadata": {},
   "source": [
    "### Introducción:"
   ]
  },
  {
   "cell_type": "markdown",
   "id": "1582eb3c-3382-4200-9532-3f012df041f7",
   "metadata": {},
   "source": [
    "Se trata de una inmobiliaria con muchas viviendas de alquiler social, VPO y rentas\n",
    "bonificadas a su cargo, que busca identificar los desafíos de vivienda a los que se\n",
    "enfrentan las familias en la actualidad, debido a los precios elevados de alquiler en\n",
    "el mercado. Su propósito, es por medio de este modelo de machine learning\n",
    "identificar a las familias que realmente son aptas para ayudas de alquiler."
   ]
  },
  {
   "cell_type": "markdown",
   "id": "c60a7ae9-e284-40c9-8775-275770324167",
   "metadata": {},
   "source": [
    "### Objetivos del proyecto"
   ]
  },
  {
   "cell_type": "markdown",
   "id": "b90e328a-5fc1-42e8-956b-713ddce3761c",
   "metadata": {},
   "source": [
    "1. ¿Cuáles son los objetivos del negocio?\n",
    "Los objetivo del negocio es por medio del modelo de machine learning hacer\r\n",
    "un filtro inicial de las familias que se podrían beneficiar de los distintos tipos\r\n",
    "de ayudas de viviendas disponibles en su cartera."
   ]
  },
  {
   "cell_type": "markdown",
   "id": "2a8e506c-5d05-4b2c-ba7b-17c0dee888ce",
   "metadata": {},
   "source": [
    "2. ¿Qué decisiones o procesos específicos desea mejorar o automatizar con \n",
    "M?\n",
    "Se busca automatizar por medio de ML la selección de familias aptas y no\r\n",
    "aptas para beneficiarse de las ayudas en cartera de la empresa?"
   ]
  },
  {
   "cell_type": "markdown",
   "id": "7450cddd-bcfc-42b4-9f82-4b5eb8cd92b5",
   "metadata": {},
   "source": [
    "3. ¿Se podría solucionar el problema de forma no automatizada?\n",
    "Si bien el estudio de cada familia se puede realizar de forma no automatizada\r\n",
    "y obtener los mismos resultados, la automatización de este filtro inicial\r\n",
    "permitirá agilizar los procesos de selección y posteriores estudio previos a la\r\n",
    "recepción de las ayudas por parte de la familia. Así mismo, se podría\r\n",
    "beneficiar la mayor cantidad de población, en el menor tiempo posible y con\r\n",
    "menores rangos de error."
   ]
  },
  {
   "cell_type": "markdown",
   "id": "0123d83a-b15d-4d85-a6c1-5a3e89ada5cf",
   "metadata": {},
   "source": [
    "### Metodología Propuesta"
   ]
  },
  {
   "cell_type": "markdown",
   "id": "26f3a9b4-3864-40ff-b23a-2b8d5c5666a6",
   "metadata": {},
   "source": [
    " precisas.o?"
   ]
  },
  {
   "cell_type": "code",
   "execution_count": null,
   "id": "4adabd5e-4c8e-45b0-a223-f95c7ed3aec1",
   "metadata": {},
   "outputs": [],
   "source": []
  }
 ],
 "metadata": {
  "kernelspec": {
   "display_name": "Python 3 (ipykernel)",
   "language": "python",
   "name": "python3"
  },
  "language_info": {
   "codemirror_mode": {
    "name": "ipython",
    "version": 3
   },
   "file_extension": ".py",
   "mimetype": "text/x-python",
   "name": "python",
   "nbconvert_exporter": "python",
   "pygments_lexer": "ipython3",
   "version": "3.12.7"
  }
 },
 "nbformat": 4,
 "nbformat_minor": 5
}
