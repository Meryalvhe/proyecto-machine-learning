{
 "cells": [
  {
   "cell_type": "markdown",
   "id": "fb702f0a-dbb9-473b-8a2e-7461a7df98b0",
   "metadata": {},
   "source": [
    "# Proyecto ML para identificar si las familias son aptas o no aptas para la recepción de ayudas o bonificaciones de alquiler."
   ]
  },
  {
   "cell_type": "markdown",
   "id": "12373578-317d-450a-b787-08b7593ff07a",
   "metadata": {},
   "source": [
    "### Introducción:"
   ]
  },
  {
   "cell_type": "markdown",
   "id": "1582eb3c-3382-4200-9532-3f012df041f7",
   "metadata": {},
   "source": [
    "Se trata de una inmobiliaria con muchas viviendas de alquiler social, VPO y rentas\n",
    "bonificadas a su cargo, que busca identificar los desafíos de vivienda a los que se\n",
    "enfrentan las familias en la actualidad, debido a los precios elevados de alquiler en\n",
    "el mercado. Su propósito, es por medio de este modelo de machine learning\n",
    "identificar a las familias que realmente son aptas para ayudas de alquiler."
   ]
  },
  {
   "cell_type": "markdown",
   "id": "c60a7ae9-e284-40c9-8775-275770324167",
   "metadata": {},
   "source": [
    "### Objetivos del proyecto"
   ]
  },
  {
   "cell_type": "markdown",
   "id": "b90e328a-5fc1-42e8-956b-713ddce3761c",
   "metadata": {},
   "source": [
    "1. ¿Cuáles son los objetivos del negocio?"
   ]
  },
  {
   "cell_type": "markdown",
   "id": "934e9880-caeb-4d6b-b330-1536c6cd8c6c",
   "metadata": {},
   "source": [
    "Los objetivo del negocio es por medio del modelo de machine learning hacer\n",
    "un filtro inicial de las familias que se podrían beneficiar de los distintos tipos\n",
    "de ayudas de viviendas disponibles en su cartera."
   ]
  },
  {
   "cell_type": "markdown",
   "id": "2a8e506c-5d05-4b2c-ba7b-17c0dee888ce",
   "metadata": {},
   "source": [
    "2. ¿Qué decisiones o procesos específicos desea mejorar o automatizar con \n",
    "ML?"
   ]
  },
  {
   "cell_type": "markdown",
   "id": "ff6c2afb-d1ad-4f44-b8a8-5f98bf65698e",
   "metadata": {},
   "source": [
    "Se busca automatizar por medio de ML la selección de familias aptas y no\n",
    "aptas para beneficiarse de las ayudas en cartera de la empresa"
   ]
  },
  {
   "cell_type": "markdown",
   "id": "7450cddd-bcfc-42b4-9f82-4b5eb8cd92b5",
   "metadata": {},
   "source": [
    "3. ¿Se podría solucionar el problema de forma no automatizada? "
   ]
  },
  {
   "cell_type": "markdown",
   "id": "ec5333ef-7027-4f34-8cb3-f804ebb577b5",
   "metadata": {},
   "source": [
    "Si bien el estudio de cada familia se puede realizar de forma no automatizada\n",
    "y obtener los mismos resultados, la automatización de este filtro inicial\n",
    "permitirá agilizar los procesos de selección y posteriores estudio previos a la\n",
    "recepción de las ayudas por parte de la familia. Así mismo, se podría\n",
    "beneficiar la mayor cantidad de población, en el menor tiempo posible y con\n",
    "menores rangos de error."
   ]
  },
  {
   "cell_type": "markdown",
   "id": "0123d83a-b15d-4d85-a6c1-5a3e89ada5cf",
   "metadata": {},
   "source": [
    "### Metodología Propuesta"
   ]
  },
  {
   "cell_type": "markdown",
   "id": "26f3a9b4-3864-40ff-b23a-2b8d5c5666a6",
   "metadata": {},
   "source": [
    "4. ¿Cuál es el algoritmo de Machine Learning más adecuado para resolver este\n",
    "problema? ¿Cómo justifica la elección de ese algoritmo? ¿Qué métricas de\n",
    "evaluación se utilizarán para medir el rendimiento del modelo?"
   ]
  },
  {
   "cell_type": "markdown",
   "id": "f80dd751-e75c-4446-a285-2b4e685258c3",
   "metadata": {},
   "source": [
    "El algoritmo que utilizaré para mi modelo será el Árbol de decisión, que me\n",
    "permitirá usar las variables necesarias para hacer divisiones jerárquicas que\n",
    "permitan determinar si una familia es apta o no apta para recibir ayudas.\n",
    "El motivo por el cual utilizaré este algoritmo es porque es intuitivo y fácil de\n",
    "interpretar, tiene un buen manejo de datos no lineales y relaciones complejas.\n",
    "Finalmente este tipo de algoritmo no requiere que las variables sean\n",
    "normalizadas o estandarizadas lo que me permitirá tener la respuesta más\n",
    "acertada de mi modelo y más fácil de interpretar.\n",
    "Dentro de las métricas de evaluación que se utilizarán tendremos el\n",
    "Accuracy, Precision, Recall y la matriz de confusión para evaluar el\n",
    "rendimiento del modelo y garantizar las predicciones precisas.\n"
   ]
  },
  {
   "cell_type": "markdown",
   "id": "651743af-53b5-4ecc-8fed-9b43366382f5",
   "metadata": {},
   "source": [
    "### Datos Disponibles"
   ]
  },
  {
   "cell_type": "markdown",
   "id": "94af7c56-871f-4f21-978c-a51e3edd70d7",
   "metadata": {},
   "source": [
    "5. ¿Qué datos están disponibles para abordar este problema?"
   ]
  },
  {
   "cell_type": "markdown",
   "id": "63f19d3d-70ca-41f2-8952-4bae27577c12",
   "metadata": {},
   "source": [
    "Los datos que usaremos para este modelo provendrán de las bases de datos\n",
    "de la inmobiliaria que tendrán todas las etiquetas necesarias para el\n",
    "desarrollo exitoso de este."
   ]
  },
  {
   "cell_type": "markdown",
   "id": "73644bac-e606-438a-9804-44a44ca3a76f",
   "metadata": {},
   "source": [
    "### Métrica de Éxito"
   ]
  },
  {
   "cell_type": "markdown",
   "id": "8d1a08e5-24c8-4c4b-aafd-de497133bf06",
   "metadata": {},
   "source": [
    "6. ¿Cuál es la métrica de éxito para este proyecto?"
   ]
  },
  {
   "cell_type": "markdown",
   "id": "8a0eb24b-f8a3-4d93-9882-f187fe1336c2",
   "metadata": {},
   "source": [
    "La medida de éxito de este modelo, será la devolución del ‘’apto’’ o ‘’No apto’’\n",
    "de cada unidad familiar con el menor margen de error que podamos\n",
    "conseguir."
   ]
  },
  {
   "cell_type": "markdown",
   "id": "fc196b32-d434-4794-8d7f-93a8a411a154",
   "metadata": {},
   "source": [
    "### Responsabilidades Éticas y Sociales"
   ]
  },
  {
   "cell_type": "markdown",
   "id": "40001308-1e8d-47cb-b636-8503bfa4d8b9",
   "metadata": {},
   "source": [
    "7. ¿Qué responsabilidades éticas y sociales es importante tener en cuenta?"
   ]
  },
  {
   "cell_type": "markdown",
   "id": "9264a804-3335-4fcb-98ea-46476913979f",
   "metadata": {},
   "source": [
    "La implementación de modelos de ML en tomas de decisiones de este tipo\n",
    "tienen implicaciones éticas y sociales significativas como son la equidad y no\n",
    "discrimación, la transparencia, la privacidad y la confidencialidad."
   ]
  },
  {
   "cell_type": "code",
   "execution_count": null,
   "id": "559abe05-b767-4603-b3bb-d84602740195",
   "metadata": {},
   "outputs": [],
   "source": []
  }
 ],
 "metadata": {
  "kernelspec": {
   "display_name": "Python 3 (ipykernel)",
   "language": "python",
   "name": "python3"
  },
  "language_info": {
   "codemirror_mode": {
    "name": "ipython",
    "version": 3
   },
   "file_extension": ".py",
   "mimetype": "text/x-python",
   "name": "python",
   "nbconvert_exporter": "python",
   "pygments_lexer": "ipython3",
   "version": "3.12.7"
  }
 },
 "nbformat": 4,
 "nbformat_minor": 5
}
