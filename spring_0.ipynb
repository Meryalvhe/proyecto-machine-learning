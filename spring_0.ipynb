{
 "cells": [
  {
   "cell_type": "markdown",
   "id": "ecf4e77a-0281-4d21-88a9-618881ed09c5",
   "metadata": {},
   "source": [
    "# Tipos de datos en **Python**"
   ]
  },
  {
   "cell_type": "markdown",
   "id": "b5ac5296-4893-4365-afad-1f85bf3666b8",
   "metadata": {},
   "source": [
    "- Numéricos\n",
    "- De texto\n",
    "- Booleanos\n",
    "- De secuencias\n",
    "- De mapeo\n",
    "- Conjuntos\n",
    "- De bytes"
   ]
  },
  {
   "cell_type": "markdown",
   "id": "6d7c15eb-0122-4b84-8585-b0a1f9b06f3d",
   "metadata": {},
   "source": [
    "# Ejercicios basicos de python"
   ]
  },
  {
   "cell_type": "markdown",
   "id": "aabab9f3-8e4c-4e44-9481-133789927a10",
   "metadata": {},
   "source": [
    "### Ejercicio 1"
   ]
  },
  {
   "cell_type": "markdown",
   "id": "11888b59-fbb2-423f-9d80-d74fa4840485",
   "metadata": {},
   "source": [
    "Escribir un programa que muestre por pantalla la cadena:\n",
    "___¡Hola Mundo!___. "
   ]
  },
  {
   "cell_type": "code",
   "execution_count": 9,
   "id": "cb9e9540-2cd7-4d23-8ea2-55cc6a4b4872",
   "metadata": {},
   "outputs": [
    {
     "name": "stdout",
     "output_type": "stream",
     "text": [
      "¡Hola Mundo!\n"
     ]
    }
   ],
   "source": [
    "print(\"¡Hola Mundo!\")"
   ]
  },
  {
   "cell_type": "markdown",
   "id": "f00a7992-81fe-4997-8aef-392ef6408250",
   "metadata": {},
   "source": [
    "### Ejercicio 2"
   ]
  },
  {
   "cell_type": "markdown",
   "id": "ace7270e-4d9f-4d92-b97a-85557b73480e",
   "metadata": {},
   "source": [
    "scribir un programa que almacene la cadena ___¡Hola Mundo!___ en una variable y luego muestre por pantalla el contenido de la variable. "
   ]
  },
  {
   "cell_type": "code",
   "execution_count": 13,
   "id": "53128cbd-9674-4f49-b98f-eda21d32509c",
   "metadata": {},
   "outputs": [
    {
     "name": "stdout",
     "output_type": "stream",
     "text": [
      "¡Hola Mundo!\n"
     ]
    }
   ],
   "source": [
    "saludo = \"¡Hola Mundo!\"\n",
    "print(saludo)"
   ]
  },
  {
   "cell_type": "markdown",
   "id": "9f045100-191a-4314-b5d5-a366adbbb1a5",
   "metadata": {},
   "source": [
    "### Ejercicio 3"
   ]
  },
  {
   "cell_type": "markdown",
   "id": "522bcbed-d3cb-454c-951a-fd11dd9dcaf0",
   "metadata": {},
   "source": [
    "Escribir un programa que pregunte el nombre del usuario en la consola y después de que el usuario lo introduzca muestre por pantalla la cadena ¡Hola **\"Nombre\"**!, donde nombre es el nombre que el usuario haya introducido. "
   ]
  },
  {
   "cell_type": "code",
   "execution_count": 21,
   "id": "0c797cca-5165-4c60-b123-36ffabfd4034",
   "metadata": {},
   "outputs": [
    {
     "name": "stdin",
     "output_type": "stream",
     "text": [
      "Introduce tu nombre aquí: Mery\n"
     ]
    },
    {
     "name": "stdout",
     "output_type": "stream",
     "text": [
      "¡Hola Mery!\n"
     ]
    }
   ],
   "source": [
    "nombre = input('Introduce tu nombre aquí:')\n",
    "print('¡Hola ' + nombre + '!')"
   ]
  },
  {
   "cell_type": "markdown",
   "id": "8161ccf6-a337-4f3b-9db4-e9c5d5a4b03f",
   "metadata": {},
   "source": [
    "### Ejercicio 4"
   ]
  },
  {
   "cell_type": "markdown",
   "id": "817c813d-160b-4975-b49b-9d750f85293c",
   "metadata": {},
   "source": [
    "<p>Escribir un programa que pregunte al usuario por el número de horas trabajadas y el coste por hora. Después debe mostrar por pantalla la paga que le corresponde.\n",
    ".</p>"
   ]
  },
  {
   "cell_type": "code",
   "execution_count": 40,
   "id": "87bc7dff-fcbb-4d73-a4ed-2b9b60a998a7",
   "metadata": {},
   "outputs": [
    {
     "name": "stdin",
     "output_type": "stream",
     "text": [
      "Cuantas horas has trabajado? 15\n",
      "Cuanto te pagan por hora? 15.50\n"
     ]
    },
    {
     "name": "stdout",
     "output_type": "stream",
     "text": [
      "Este es el valor que recibirás:  232.5\n"
     ]
    }
   ],
   "source": [
    "horas_trabajadas = int(input(\"Cuantas horas has trabajado?\"))\n",
    "costo_horas = float(input(\"Cuanto te pagan por hora?\"))\n",
    "valor_total = horas_trabajadas * costo_horas\n",
    "print(\"Este es el valor que recibirás: \", valor_total)"
   ]
  },
  {
   "cell_type": "code",
   "execution_count": null,
   "id": "d435e302-d6c0-4dac-b6ac-37b0b0f79a69",
   "metadata": {},
   "outputs": [],
   "source": []
  }
 ],
 "metadata": {
  "kernelspec": {
   "display_name": "Python 3 (ipykernel)",
   "language": "python",
   "name": "python3"
  },
  "language_info": {
   "codemirror_mode": {
    "name": "ipython",
    "version": 3
   },
   "file_extension": ".py",
   "mimetype": "text/x-python",
   "name": "python",
   "nbconvert_exporter": "python",
   "pygments_lexer": "ipython3",
   "version": "3.12.4"
  }
 },
 "nbformat": 4,
 "nbformat_minor": 5
}
