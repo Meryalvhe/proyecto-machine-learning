{
 "cells": [
  {
   "cell_type": "markdown",
   "id": "01f090d0-f195-4c01-8b34-a908e2841ab0",
   "metadata": {},
   "source": [
    "# Documentación del Proceso de Recolección de Datos para el Proyecto de Análisis Bancario"
   ]
  },
  {
   "cell_type": "markdown",
   "id": "dbb2490b-a45a-48f1-9949-dfd8a1447758",
   "metadata": {},
   "source": [
    "### 1. Fuentes\n",
    "#### Identificación de Fuentes:\n",
    "- Archivo CSV proporcionado por el departamento de datos bancarios.\n",
    "#### Descripción de las Fuentes:\n",
    "- El archivo contiene registros detallados sobre clientes, transacciones, y resultados de campañas de marketing."
   ]
  },
  {
   "cell_type": "markdown",
   "id": "433d7ec1-615b-40d2-adab-48476cc47188",
   "metadata": {},
   "source": [
    "### 2. Métodos de recolección de datos\n",
    "#### Procedimientos y Herramientas:\n",
    "- Archivo suministrado como `bank_dataset.csv` y cargado a través de herramientas de análisis como Python y bibliotecas de manipulación de datos como `pandas`.\n",
    "#### Frecuencia de Recolección:\n",
    "- La información parece ser estática, recolectada en un momento específico.\n",
    "```python\n",
    "import pandas as pd\n",
    "\n",
    "# Carga del archivo CSV\n",
    "file_path = \"bank_dataset.csv\"\n",
    "data = pd.read_csv(file_path)\n",
    "\n",
    "# Exploración básica\n",
    "print(data.info())\n",
    "print(data.head())\n",
    "```"
   ]
  },
  {
   "cell_type": "markdown",
   "id": "e4bc612a-6483-4302-92ad-5ee4ac76fd66",
   "metadata": {},
   "source": [
    "### 3. Formato y Estructura de los Datos\n",
    "#### Tipos de Datos:\n",
    "- Numéricos: `age`, `balance`, `duration`, `campaign`, `pdays`, `previous`\n",
    "- Categóricos: `job`, `marital`, `education`, `default`, `housing`, `loan`, `contact`, `month`, `poutcome`, `deposit`\n",
    "#### Formato de Almacenamiento:\n",
    "- Datos tabulares almacenados en un archivo CSV."
   ]
  },
  {
   "cell_type": "markdown",
   "id": "7a85d215-7d71-4752-999e-eb63181a8079",
   "metadata": {},
   "source": [
    "### 4. Limitaciones de los Datos\n",
    "- Valores Faltantes: Las columnas `age`, `marital` y `education` contienen datos nulos que podrían afectar el análisis.\n",
    "- Estaticidad: Los datos representan un momento específico y no se actualizan periódicamente.\n",
    "- Representación de Datos Sensibles: Información detallada sobre los clientes y resultados de campañas puede requerir medidas adicionales de seguridad."
   ]
  },
  {
   "cell_type": "markdown",
   "id": "0f2b3732-1bb7-44d3-bb1f-ac30980f5ede",
   "metadata": {},
   "source": [
    "### 5. Consideraciones sobre Datos Sensibles\n",
    "#### Tipos de Datos Sensibles:\n",
    "- Información Personal Identificable (PII): `age`, `job`, `marital`, `education`\n",
    "- Información Financiera Sensible: `balance`, `loan`, `housing`, `default`\n",
    "- Datos Comportamentales Sensibles: `duration`, `campaign`, `pdays`, `previous`\n",
    "\n",
    "#### Medidas de Protección: \n",
    "- Anonimización y Pseudonimización:\n",
    "    - Se deben eliminar o anonimizar datos personales como age, job y marital para evitar la identificación directa.\n",
    "- Acceso Restringido:\n",
    "    - Limitación de acceso al archivo a personal autorizado.\n",
    "- Cumplimiento de Regulaciones:\n",
    "    - Asegurar el cumplimiento con normativas como GDPR, especialmente para clientes en la Unión Europea."
   ]
  }
 ],
 "metadata": {
  "kernelspec": {
   "display_name": "Python 3 (ipykernel)",
   "language": "python",
   "name": "python3"
  },
  "language_info": {
   "codemirror_mode": {
    "name": "ipython",
    "version": 3
   },
   "file_extension": ".py",
   "mimetype": "text/x-python",
   "name": "python",
   "nbconvert_exporter": "python",
   "pygments_lexer": "ipython3",
   "version": "3.12.7"
  }
 },
 "nbformat": 4,
 "nbformat_minor": 5
}
