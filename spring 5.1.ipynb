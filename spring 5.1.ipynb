{
 "cells": [
  {
   "cell_type": "markdown",
   "metadata": {},
   "source": [
    "# Exploratory Data Analysis (EDA) "
   ]
  },
  {
   "cell_type": "code",
   "execution_count": null,
   "metadata": {},
   "outputs": [],
   "source": [
    "import pandas as pd\n",
    "import numpy as np\n",
    "import matplotlib.pyplot as plt\n",
    "import seaborn as sns\n",
    "import sweetviz as sv"
   ]
  },
  {
   "cell_type": "markdown",
   "metadata": {},
   "source": [
    "# Cargar el dataset"
   ]
  },
  {
   "cell_type": "code",
   "execution_count": 3,
   "metadata": {},
   "outputs": [
    {
     "ename": "NameError",
     "evalue": "name 'pd' is not defined",
     "output_type": "error",
     "traceback": [
      "\u001b[1;31m---------------------------------------------------------------------------\u001b[0m",
      "\u001b[1;31mNameError\u001b[0m                                 Traceback (most recent call last)",
      "Cell \u001b[1;32mIn[3], line 2\u001b[0m\n\u001b[0;32m      1\u001b[0m dataset_name \u001b[38;5;241m=\u001b[39m \u001b[38;5;124m\"\u001b[39m\u001b[38;5;124mbank_dataset_tarea5.csv\u001b[39m\u001b[38;5;124m\"\u001b[39m\n\u001b[1;32m----> 2\u001b[0m df \u001b[38;5;241m=\u001b[39m pd\u001b[38;5;241m.\u001b[39mread_csv(dataset_name)\n",
      "\u001b[1;31mNameError\u001b[0m: name 'pd' is not defined"
     ]
    }
   ],
   "source": [
    "dataset_name = \"bank_dataset.csv\"\n",
    "df = pd.read_csv(dataset_name)"
   ]
  },
  {
   "cell_type": "markdown",
   "metadata": {},
   "source": [
    "# Muestra las primeras filas del dataset"
   ]
  },
  {
   "cell_type": "code",
   "execution_count": 3,
   "metadata": {},
   "outputs": [
    {
     "data": {
      "text/html": [
       "<div>\n",
       "<style scoped>\n",
       "    .dataframe tbody tr th:only-of-type {\n",
       "        vertical-align: middle;\n",
       "    }\n",
       "\n",
       "    .dataframe tbody tr th {\n",
       "        vertical-align: top;\n",
       "    }\n",
       "\n",
       "    .dataframe thead th {\n",
       "        text-align: right;\n",
       "    }\n",
       "</style>\n",
       "<table border=\"1\" class=\"dataframe\">\n",
       "  <thead>\n",
       "    <tr style=\"text-align: right;\">\n",
       "      <th></th>\n",
       "      <th>age</th>\n",
       "      <th>job</th>\n",
       "      <th>marital</th>\n",
       "      <th>education</th>\n",
       "      <th>default</th>\n",
       "      <th>balance</th>\n",
       "      <th>housing</th>\n",
       "      <th>loan</th>\n",
       "      <th>contact</th>\n",
       "      <th>day</th>\n",
       "      <th>month</th>\n",
       "      <th>duration</th>\n",
       "      <th>campaign</th>\n",
       "      <th>pdays</th>\n",
       "      <th>previous</th>\n",
       "      <th>poutcome</th>\n",
       "      <th>deposit</th>\n",
       "    </tr>\n",
       "  </thead>\n",
       "  <tbody>\n",
       "    <tr>\n",
       "      <th>0</th>\n",
       "      <td>59.0</td>\n",
       "      <td>admin.</td>\n",
       "      <td>married</td>\n",
       "      <td>secondary</td>\n",
       "      <td>no</td>\n",
       "      <td>2343</td>\n",
       "      <td>yes</td>\n",
       "      <td>no</td>\n",
       "      <td>unknown</td>\n",
       "      <td>5</td>\n",
       "      <td>may</td>\n",
       "      <td>1042</td>\n",
       "      <td>1</td>\n",
       "      <td>-1</td>\n",
       "      <td>0</td>\n",
       "      <td>unknown</td>\n",
       "      <td>yes</td>\n",
       "    </tr>\n",
       "    <tr>\n",
       "      <th>1</th>\n",
       "      <td>56.0</td>\n",
       "      <td>admin.</td>\n",
       "      <td>married</td>\n",
       "      <td>secondary</td>\n",
       "      <td>no</td>\n",
       "      <td>45</td>\n",
       "      <td>no</td>\n",
       "      <td>no</td>\n",
       "      <td>unknown</td>\n",
       "      <td>5</td>\n",
       "      <td>may</td>\n",
       "      <td>1467</td>\n",
       "      <td>1</td>\n",
       "      <td>-1</td>\n",
       "      <td>0</td>\n",
       "      <td>unknown</td>\n",
       "      <td>yes</td>\n",
       "    </tr>\n",
       "    <tr>\n",
       "      <th>2</th>\n",
       "      <td>41.0</td>\n",
       "      <td>technician</td>\n",
       "      <td>married</td>\n",
       "      <td>secondary</td>\n",
       "      <td>no</td>\n",
       "      <td>1270</td>\n",
       "      <td>yes</td>\n",
       "      <td>no</td>\n",
       "      <td>unknown</td>\n",
       "      <td>5</td>\n",
       "      <td>may</td>\n",
       "      <td>1389</td>\n",
       "      <td>1</td>\n",
       "      <td>-1</td>\n",
       "      <td>0</td>\n",
       "      <td>unknown</td>\n",
       "      <td>yes</td>\n",
       "    </tr>\n",
       "    <tr>\n",
       "      <th>3</th>\n",
       "      <td>55.0</td>\n",
       "      <td>services</td>\n",
       "      <td>married</td>\n",
       "      <td>secondary</td>\n",
       "      <td>no</td>\n",
       "      <td>2476</td>\n",
       "      <td>yes</td>\n",
       "      <td>no</td>\n",
       "      <td>unknown</td>\n",
       "      <td>5</td>\n",
       "      <td>may</td>\n",
       "      <td>579</td>\n",
       "      <td>1</td>\n",
       "      <td>-1</td>\n",
       "      <td>0</td>\n",
       "      <td>unknown</td>\n",
       "      <td>yes</td>\n",
       "    </tr>\n",
       "    <tr>\n",
       "      <th>4</th>\n",
       "      <td>54.0</td>\n",
       "      <td>admin.</td>\n",
       "      <td>married</td>\n",
       "      <td>tertiary</td>\n",
       "      <td>no</td>\n",
       "      <td>184</td>\n",
       "      <td>no</td>\n",
       "      <td>no</td>\n",
       "      <td>unknown</td>\n",
       "      <td>5</td>\n",
       "      <td>may</td>\n",
       "      <td>673</td>\n",
       "      <td>2</td>\n",
       "      <td>-1</td>\n",
       "      <td>0</td>\n",
       "      <td>unknown</td>\n",
       "      <td>yes</td>\n",
       "    </tr>\n",
       "  </tbody>\n",
       "</table>\n",
       "</div>"
      ],
      "text/plain": [
       "    age         job  marital  education default  balance housing loan  \\\n",
       "0  59.0      admin.  married  secondary      no     2343     yes   no   \n",
       "1  56.0      admin.  married  secondary      no       45      no   no   \n",
       "2  41.0  technician  married  secondary      no     1270     yes   no   \n",
       "3  55.0    services  married  secondary      no     2476     yes   no   \n",
       "4  54.0      admin.  married   tertiary      no      184      no   no   \n",
       "\n",
       "   contact  day month  duration  campaign  pdays  previous poutcome deposit  \n",
       "0  unknown    5   may      1042         1     -1         0  unknown     yes  \n",
       "1  unknown    5   may      1467         1     -1         0  unknown     yes  \n",
       "2  unknown    5   may      1389         1     -1         0  unknown     yes  \n",
       "3  unknown    5   may       579         1     -1         0  unknown     yes  \n",
       "4  unknown    5   may       673         2     -1         0  unknown     yes  "
      ]
     },
     "execution_count": 3,
     "metadata": {},
     "output_type": "execute_result"
    }
   ],
   "source": [
    "df.head()"
   ]
  },
  {
   "cell_type": "markdown",
   "metadata": {},
   "source": [
    "# Información general del dataset"
   ]
  },
  {
   "cell_type": "code",
   "execution_count": 4,
   "metadata": {},
   "outputs": [
    {
     "name": "stdout",
     "output_type": "stream",
     "text": [
      "<class 'pandas.core.frame.DataFrame'>\n",
      "RangeIndex: 11162 entries, 0 to 11161\n",
      "Data columns (total 17 columns):\n",
      " #   Column     Non-Null Count  Dtype  \n",
      "---  ------     --------------  -----  \n",
      " 0   age        11152 non-null  float64\n",
      " 1   job        11162 non-null  object \n",
      " 2   marital    11157 non-null  object \n",
      " 3   education  11155 non-null  object \n",
      " 4   default    11162 non-null  object \n",
      " 5   balance    11162 non-null  int64  \n",
      " 6   housing    11162 non-null  object \n",
      " 7   loan       11162 non-null  object \n",
      " 8   contact    11162 non-null  object \n",
      " 9   day        11162 non-null  int64  \n",
      " 10  month      11162 non-null  object \n",
      " 11  duration   11162 non-null  int64  \n",
      " 12  campaign   11162 non-null  int64  \n",
      " 13  pdays      11162 non-null  int64  \n",
      " 14  previous   11162 non-null  int64  \n",
      " 15  poutcome   11162 non-null  object \n",
      " 16  deposit    11162 non-null  object \n",
      "dtypes: float64(1), int64(6), object(10)\n",
      "memory usage: 1.4+ MB\n"
     ]
    }
   ],
   "source": [
    "df.info()"
   ]
  },
  {
   "cell_type": "markdown",
   "metadata": {},
   "source": [
    "# Descripció estadística del dataset"
   ]
  },
  {
   "cell_type": "code",
   "execution_count": 5,
   "metadata": {},
   "outputs": [
    {
     "data": {
      "text/html": [
       "<div>\n",
       "<style scoped>\n",
       "    .dataframe tbody tr th:only-of-type {\n",
       "        vertical-align: middle;\n",
       "    }\n",
       "\n",
       "    .dataframe tbody tr th {\n",
       "        vertical-align: top;\n",
       "    }\n",
       "\n",
       "    .dataframe thead th {\n",
       "        text-align: right;\n",
       "    }\n",
       "</style>\n",
       "<table border=\"1\" class=\"dataframe\">\n",
       "  <thead>\n",
       "    <tr style=\"text-align: right;\">\n",
       "      <th></th>\n",
       "      <th>age</th>\n",
       "      <th>balance</th>\n",
       "      <th>day</th>\n",
       "      <th>duration</th>\n",
       "      <th>campaign</th>\n",
       "      <th>pdays</th>\n",
       "      <th>previous</th>\n",
       "    </tr>\n",
       "  </thead>\n",
       "  <tbody>\n",
       "    <tr>\n",
       "      <th>count</th>\n",
       "      <td>11152.000000</td>\n",
       "      <td>11162.000000</td>\n",
       "      <td>11162.000000</td>\n",
       "      <td>11162.000000</td>\n",
       "      <td>11162.000000</td>\n",
       "      <td>11162.000000</td>\n",
       "      <td>11162.000000</td>\n",
       "    </tr>\n",
       "    <tr>\n",
       "      <th>mean</th>\n",
       "      <td>41.235384</td>\n",
       "      <td>1528.538524</td>\n",
       "      <td>15.658036</td>\n",
       "      <td>371.993818</td>\n",
       "      <td>2.508421</td>\n",
       "      <td>51.330407</td>\n",
       "      <td>0.832557</td>\n",
       "    </tr>\n",
       "    <tr>\n",
       "      <th>std</th>\n",
       "      <td>11.914934</td>\n",
       "      <td>3225.413326</td>\n",
       "      <td>8.420740</td>\n",
       "      <td>347.128386</td>\n",
       "      <td>2.722077</td>\n",
       "      <td>108.758282</td>\n",
       "      <td>2.292007</td>\n",
       "    </tr>\n",
       "    <tr>\n",
       "      <th>min</th>\n",
       "      <td>18.000000</td>\n",
       "      <td>-6847.000000</td>\n",
       "      <td>1.000000</td>\n",
       "      <td>2.000000</td>\n",
       "      <td>1.000000</td>\n",
       "      <td>-1.000000</td>\n",
       "      <td>0.000000</td>\n",
       "    </tr>\n",
       "    <tr>\n",
       "      <th>25%</th>\n",
       "      <td>32.000000</td>\n",
       "      <td>122.000000</td>\n",
       "      <td>8.000000</td>\n",
       "      <td>138.000000</td>\n",
       "      <td>1.000000</td>\n",
       "      <td>-1.000000</td>\n",
       "      <td>0.000000</td>\n",
       "    </tr>\n",
       "    <tr>\n",
       "      <th>50%</th>\n",
       "      <td>39.000000</td>\n",
       "      <td>550.000000</td>\n",
       "      <td>15.000000</td>\n",
       "      <td>255.000000</td>\n",
       "      <td>2.000000</td>\n",
       "      <td>-1.000000</td>\n",
       "      <td>0.000000</td>\n",
       "    </tr>\n",
       "    <tr>\n",
       "      <th>75%</th>\n",
       "      <td>49.000000</td>\n",
       "      <td>1708.000000</td>\n",
       "      <td>22.000000</td>\n",
       "      <td>496.000000</td>\n",
       "      <td>3.000000</td>\n",
       "      <td>20.750000</td>\n",
       "      <td>1.000000</td>\n",
       "    </tr>\n",
       "    <tr>\n",
       "      <th>max</th>\n",
       "      <td>95.000000</td>\n",
       "      <td>81204.000000</td>\n",
       "      <td>31.000000</td>\n",
       "      <td>3881.000000</td>\n",
       "      <td>63.000000</td>\n",
       "      <td>854.000000</td>\n",
       "      <td>58.000000</td>\n",
       "    </tr>\n",
       "  </tbody>\n",
       "</table>\n",
       "</div>"
      ],
      "text/plain": [
       "                age       balance           day      duration      campaign  \\\n",
       "count  11152.000000  11162.000000  11162.000000  11162.000000  11162.000000   \n",
       "mean      41.235384   1528.538524     15.658036    371.993818      2.508421   \n",
       "std       11.914934   3225.413326      8.420740    347.128386      2.722077   \n",
       "min       18.000000  -6847.000000      1.000000      2.000000      1.000000   \n",
       "25%       32.000000    122.000000      8.000000    138.000000      1.000000   \n",
       "50%       39.000000    550.000000     15.000000    255.000000      2.000000   \n",
       "75%       49.000000   1708.000000     22.000000    496.000000      3.000000   \n",
       "max       95.000000  81204.000000     31.000000   3881.000000     63.000000   \n",
       "\n",
       "              pdays      previous  \n",
       "count  11162.000000  11162.000000  \n",
       "mean      51.330407      0.832557  \n",
       "std      108.758282      2.292007  \n",
       "min       -1.000000      0.000000  \n",
       "25%       -1.000000      0.000000  \n",
       "50%       -1.000000      0.000000  \n",
       "75%       20.750000      1.000000  \n",
       "max      854.000000     58.000000  "
      ]
     },
     "execution_count": 5,
     "metadata": {},
     "output_type": "execute_result"
    }
   ],
   "source": [
    "df.describe()"
   ]
  },
  {
   "cell_type": "markdown",
   "metadata": {},
   "source": [
    "# Histograma de cada variable numérica"
   ]
  },
  {
   "cell_type": "code",
   "execution_count": 6,
   "metadata": {},
   "outputs": [
    {
     "data": {
      "image/png": "[encoded data removed]",
      "text/plain": [
       "<Figure size 1500x1000 with 9 Axes>"
      ]
     },
     "metadata": {},
     "output_type": "display_data"
    }
   ],
   "source": [
    "df.hist(bins=30, figsize=(15, 10))\n",
    "plt.show()"
   ]
  },
  {
   "cell_type": "markdown",
   "metadata": {},
   "source": [
    "# Contar los valores de cada variable categórica"
   ]
  },
  {
   "cell_type": "code",
   "execution_count": 7,
   "metadata": {},
   "outputs": [
    {
     "name": "stdout",
     "output_type": "stream",
     "text": [
      "job\n",
      "management       2566\n",
      "blue-collar      1944\n",
      "technician       1823\n",
      "admin.           1334\n",
      "services          923\n",
      "retired           778\n",
      "self-employed     405\n",
      "student           360\n",
      "unemployed        357\n",
      "entrepreneur      328\n",
      "housemaid         274\n",
      "unknown            70\n",
      "Name: count, dtype: int64\n",
      "marital\n",
      "married     6349\n",
      "single      3517\n",
      "divorced    1291\n",
      "Name: count, dtype: int64\n",
      "education\n",
      "secondary    5474\n",
      "tertiary     3685\n",
      "primary      1500\n",
      "unknown       496\n",
      "Name: count, dtype: int64\n",
      "default\n",
      "no     10994\n",
      "yes      168\n",
      "Name: count, dtype: int64\n",
      "housing\n",
      "no     5881\n",
      "yes    5281\n",
      "Name: count, dtype: int64\n",
      "loan\n",
      "no     9702\n",
      "yes    1460\n",
      "Name: count, dtype: int64\n",
      "contact\n",
      "cellular     8042\n",
      "unknown      2346\n",
      "telephone     774\n",
      "Name: count, dtype: int64\n",
      "month\n",
      "may    2824\n",
      "aug    1519\n",
      "jul    1514\n",
      "jun    1222\n",
      "nov     943\n",
      "apr     923\n",
      "feb     776\n",
      "oct     392\n",
      "jan     344\n",
      "sep     319\n",
      "mar     276\n",
      "dec     110\n",
      "Name: count, dtype: int64\n",
      "poutcome\n",
      "unknown    8326\n",
      "failure    1228\n",
      "success    1071\n",
      "other       537\n",
      "Name: count, dtype: int64\n",
      "deposit\n",
      "no     5873\n",
      "yes    5289\n",
      "Name: count, dtype: int64\n"
     ]
    }
   ],
   "source": [
    "for column in df.select_dtypes(include=['object']).columns:\n",
    "    print(df[column].value_counts())"
   ]
  },
  {
   "cell_type": "markdown",
   "metadata": {},
   "source": [
    "# Visualización de valores nulos"
   ]
  },
  {
   "cell_type": "code",
   "execution_count": 8,
   "metadata": {},
   "outputs": [
    {
     "data": {
      "image/png": "[encoded data removed]",
      "text/plain": [
       "<Figure size 1200x800 with 1 Axes>"
      ]
     },
     "metadata": {},
     "output_type": "display_data"
    }
   ],
   "source": [
    "plt.figure(figsize=(12, 8))\n",
    "sns.heatmap(df.isnull(), cbar=False, cmap='viridis')\n",
    "plt.show()"
   ]
  },
  {
   "cell_type": "markdown",
   "metadata": {},
   "source": [
    "# Contar valores nulos por columna"
   ]
  },
  {
   "cell_type": "code",
   "execution_count": 9,
   "metadata": {},
   "outputs": [
    {
     "data": {
      "text/plain": [
       "age          10\n",
       "job           0\n",
       "marital       5\n",
       "education     7\n",
       "default       0\n",
       "balance       0\n",
       "housing       0\n",
       "loan          0\n",
       "contact       0\n",
       "day           0\n",
       "month         0\n",
       "duration      0\n",
       "campaign      0\n",
       "pdays         0\n",
       "previous      0\n",
       "poutcome      0\n",
       "deposit       0\n",
       "dtype: int64"
      ]
     },
     "execution_count": 9,
     "metadata": {},
     "output_type": "execute_result"
    }
   ],
   "source": [
    "df.isnull().sum()"
   ]
  },
  {
   "cell_type": "markdown",
   "metadata": {},
   "source": [
    "# EDA automático con Sweetviz"
   ]
  },
  {
   "cell_type": "code",
   "execution_count": 13,
   "metadata": {},
   "outputs": [],
   "source": [
    "import numpy"
   ]
  },
  {
   "cell_type": "code",
   "execution_count": 14,
   "metadata": {},
   "outputs": [
    {
     "name": "stderr",
     "output_type": "stream",
     "text": [
      "Done! Use 'show' commands to display/save.   |██████████| [100%]   00:00 -> (00:00 left)\n"
     ]
    },
    {
     "name": "stdout",
     "output_type": "stream",
     "text": [
      "Report EDA_report.html was generated! NOTEBOOK/COLAB USERS: the web browser MAY not pop up, regardless, the report IS saved in your notebook/colab files.\n"
     ]
    }
   ],
   "source": [
    "report = sv.analyze(df)\n",
    "report.show_html('EDA_report.html')"
   ]
  },
  {
   "cell_type": "markdown",
   "metadata": {},
   "source": [
    "# Conclusión\n",
    "\n",
    "> Conclusión Final del EDA:\n",
    "\n",
    "+ A lo largo del proceso de Análisis Exploratorio de Datos (EDA), se llevaron a cabo diversas técnicas para comprender la estructura y características del conjunto de datos. Inicialmente, se inspeccionaron las variables disponibles, identificando patrones clave, relaciones significativas entre variables, y posibles problemas como valores faltantes o atípicos.\n",
    "\n",
    "+ Se implementaron visualizaciones y métricas descriptivas para facilitar la interpretación de los datos. Estas permitieron identificar tendencias generales, como la distribución de las variables principales y correlaciones relevantes que podrían ser útiles para etapas posteriores de modelado. Asimismo, se abordaron posibles discrepancias en los datos, asegurando su limpieza y preparación para análisis más profundos.\n",
    "\n",
    "+ Como resultado, el EDA permitió obtener una comprensión integral de los datos, identificar los factores que más influyen en las relaciones observadas y sentar las bases para futuras tareas analíticas o de modelado predictivo. En resumen, el proceso contribuyó a descubrir patrones relevantes y a garantizar la calidad de los datos, elementos esenciales para la toma de decisiones fundamentadas.\n",
    "\n",
    "+ El analizis de toda esta esta informacion es fundamental al momento de elergir mi data set para la creacion y entrenamiento del modelo."
   ]
  },
  {
   "cell_type": "markdown",
   "metadata": {},
   "source": [
    "# Estadísticas Descriptivas Completas"
   ]
  },
  {
   "cell_type": "code",
   "execution_count": 23,
   "metadata": {},
   "outputs": [
    {
     "data": {
      "text/html": [
       "<div>\n",
       "<style scoped>\n",
       "    .dataframe tbody tr th:only-of-type {\n",
       "        vertical-align: middle;\n",
       "    }\n",
       "\n",
       "    .dataframe tbody tr th {\n",
       "        vertical-align: top;\n",
       "    }\n",
       "\n",
       "    .dataframe thead th {\n",
       "        text-align: right;\n",
       "    }\n",
       "</style>\n",
       "<table border=\"1\" class=\"dataframe\">\n",
       "  <thead>\n",
       "    <tr style=\"text-align: right;\">\n",
       "      <th></th>\n",
       "      <th>Media</th>\n",
       "      <th>Mediana</th>\n",
       "      <th>Moda</th>\n",
       "      <th>Desviación Estándar</th>\n",
       "      <th>Varianza</th>\n",
       "      <th>Mínimo</th>\n",
       "      <th>Máximo</th>\n",
       "    </tr>\n",
       "  </thead>\n",
       "  <tbody>\n",
       "    <tr>\n",
       "      <th>age</th>\n",
       "      <td>41.233381</td>\n",
       "      <td>39.0</td>\n",
       "      <td>31.0</td>\n",
       "      <td>11.909783</td>\n",
       "      <td>1.418429e+02</td>\n",
       "      <td>18.0</td>\n",
       "      <td>95.0</td>\n",
       "    </tr>\n",
       "    <tr>\n",
       "      <th>balance</th>\n",
       "      <td>1528.538524</td>\n",
       "      <td>550.0</td>\n",
       "      <td>0.0</td>\n",
       "      <td>3225.413326</td>\n",
       "      <td>1.040329e+07</td>\n",
       "      <td>-6847.0</td>\n",
       "      <td>81204.0</td>\n",
       "    </tr>\n",
       "    <tr>\n",
       "      <th>day</th>\n",
       "      <td>15.658036</td>\n",
       "      <td>15.0</td>\n",
       "      <td>20.0</td>\n",
       "      <td>8.420740</td>\n",
       "      <td>7.090885e+01</td>\n",
       "      <td>1.0</td>\n",
       "      <td>31.0</td>\n",
       "    </tr>\n",
       "    <tr>\n",
       "      <th>duration</th>\n",
       "      <td>371.993818</td>\n",
       "      <td>255.0</td>\n",
       "      <td>97.0</td>\n",
       "      <td>347.128386</td>\n",
       "      <td>1.204981e+05</td>\n",
       "      <td>2.0</td>\n",
       "      <td>3881.0</td>\n",
       "    </tr>\n",
       "    <tr>\n",
       "      <th>campaign</th>\n",
       "      <td>2.508421</td>\n",
       "      <td>2.0</td>\n",
       "      <td>1.0</td>\n",
       "      <td>2.722077</td>\n",
       "      <td>7.409704e+00</td>\n",
       "      <td>1.0</td>\n",
       "      <td>63.0</td>\n",
       "    </tr>\n",
       "    <tr>\n",
       "      <th>pdays</th>\n",
       "      <td>51.330407</td>\n",
       "      <td>-1.0</td>\n",
       "      <td>-1.0</td>\n",
       "      <td>108.758282</td>\n",
       "      <td>1.182836e+04</td>\n",
       "      <td>-1.0</td>\n",
       "      <td>854.0</td>\n",
       "    </tr>\n",
       "    <tr>\n",
       "      <th>previous</th>\n",
       "      <td>0.832557</td>\n",
       "      <td>0.0</td>\n",
       "      <td>0.0</td>\n",
       "      <td>2.292007</td>\n",
       "      <td>5.253297e+00</td>\n",
       "      <td>0.0</td>\n",
       "      <td>58.0</td>\n",
       "    </tr>\n",
       "  </tbody>\n",
       "</table>\n",
       "</div>"
      ],
      "text/plain": [
       "                Media  Mediana  Moda  Desviación Estándar      Varianza  \\\n",
       "age         41.233381     39.0  31.0            11.909783  1.418429e+02   \n",
       "balance   1528.538524    550.0   0.0          3225.413326  1.040329e+07   \n",
       "day         15.658036     15.0  20.0             8.420740  7.090885e+01   \n",
       "duration   371.993818    255.0  97.0           347.128386  1.204981e+05   \n",
       "campaign     2.508421      2.0   1.0             2.722077  7.409704e+00   \n",
       "pdays       51.330407     -1.0  -1.0           108.758282  1.182836e+04   \n",
       "previous     0.832557      0.0   0.0             2.292007  5.253297e+00   \n",
       "\n",
       "          Mínimo   Máximo  \n",
       "age         18.0     95.0  \n",
       "balance  -6847.0  81204.0  \n",
       "day          1.0     31.0  \n",
       "duration     2.0   3881.0  \n",
       "campaign     1.0     63.0  \n",
       "pdays       -1.0    854.0  \n",
       "previous     0.0     58.0  "
      ]
     },
     "execution_count": 23,
     "metadata": {},
     "output_type": "execute_result"
    }
   ],
   "source": [
    "numeric_df = df.select_dtypes(include=['number'])\n",
    "# Calcular estadísticas descriptivas adicionales\n",
    "desc_stats = pd.DataFrame({\n",
    "    'Media': numeric_df.mean(),\n",
    "    'Mediana': numeric_df.median(),\n",
    "    'Moda': numeric_df.mode().iloc[0],\n",
    "    'Desviación Estándar': numeric_df.std(),\n",
    "    'Varianza': numeric_df.var(),\n",
    "    'Mínimo': numeric_df.min(),\n",
    "    'Máximo': numeric_df.max()\n",
    "})\n",
    "desc_stats\n"
   ]
  },
  {
   "cell_type": "markdown",
   "metadata": {},
   "source": [
    "# Identificación y Tratamiento de Valores Faltantes"
   ]
  },
  {
   "cell_type": "code",
   "execution_count": 16,
   "metadata": {},
   "outputs": [
    {
     "name": "stdout",
     "output_type": "stream",
     "text": [
      "Valores faltantes en cada columna:\n",
      "           Valores Faltantes  Porcentaje\n",
      "age                       10    0.089590\n",
      "job                        0    0.000000\n",
      "marital                    5    0.044795\n",
      "education                  7    0.062713\n",
      "default                    0    0.000000\n",
      "balance                    0    0.000000\n",
      "housing                    0    0.000000\n",
      "loan                       0    0.000000\n",
      "contact                    0    0.000000\n",
      "day                        0    0.000000\n",
      "month                      0    0.000000\n",
      "duration                   0    0.000000\n",
      "campaign                   0    0.000000\n",
      "pdays                      0    0.000000\n",
      "previous                   0    0.000000\n",
      "poutcome                   0    0.000000\n",
      "deposit                    0    0.000000\n",
      "Valores faltantes tratados con la mediana.\n"
     ]
    }
   ],
   "source": [
    "\n",
    "# Identificar valores faltantes\n",
    "missing_values = df.isnull().sum()\n",
    "missing_percentage = (missing_values / len(df)) * 100\n",
    "missing_data = pd.DataFrame({'Valores Faltantes': missing_values, 'Porcentaje': missing_percentage})\n",
    "\n",
    "# Mostrar valores faltantes\n",
    "print(\"Valores faltantes en cada columna:\")\n",
    "print(missing_data)\n",
    "\n",
    "# Propuesta de tratamiento\n",
    "df.fillna(df.median(numeric_only=True), inplace=True)  # Ejemplo: Rellenar con la mediana\n",
    "print(\"Valores faltantes tratados con la mediana.\")\n"
   ]
  },
  {
   "cell_type": "markdown",
   "metadata": {},
   "source": [
    "# Detección y Tratamiento de Outliers"
   ]
  },
  {
   "cell_type": "code",
   "execution_count": 25,
   "metadata": {},
   "outputs": [
    {
     "name": "stdout",
     "output_type": "stream",
     "text": [
      "Número de outliers por columna:\n",
      "age          171\n",
      "balance     1055\n",
      "day            0\n",
      "duration     636\n",
      "campaign     601\n",
      "pdays       2750\n",
      "previous    1258\n",
      "dtype: int64\n",
      "Outliers tratados mediante recorte a los límites calculados.\n"
     ]
    }
   ],
   "source": [
    "numeric_df = df.select_dtypes(include=['number'])\n",
    "# Detección de outliers utilizando el rango intercuartil (IQR)\n",
    "Q1 = numeric_df.quantile(0.25)\n",
    "Q3 = numeric_df.quantile(0.75)\n",
    "IQR = Q3 - Q1\n",
    "\n",
    "# Determinar los límites para detectar outliers\n",
    "lower_bound = Q1 - 1.5 * IQR\n",
    "upper_bound = Q3 + 1.5 * IQR\n",
    "\n",
    "# Identificar outliers\n",
    "outliers = ((numeric_df < lower_bound) | (numeric_df > upper_bound))\n",
    "print(\"Número de outliers por columna:\")\n",
    "print(outliers.sum())\n",
    "\n",
    "# Tratamiento de outliers (Ejemplo: Reemplazar con el límite más cercano)\n",
    "df_clipped = df.clip(lower=lower_bound, upper=upper_bound, axis=1)\n",
    "print(\"Outliers tratados mediante recorte a los límites calculados.\")\n"
   ]
  },
  {
   "cell_type": "markdown",
   "metadata": {},
   "source": [
    "# Relación entre Características y Variable Objetivo"
   ]
  },
  {
   "cell_type": "code",
   "execution_count": 26,
   "metadata": {},
   "outputs": [
    {
     "name": "stdout",
     "output_type": "stream",
     "text": [
      "No se encontró una columna 'target'. Por favor, asegúrate de definir la variable objetivo.\n"
     ]
    }
   ],
   "source": [
    "\n",
    "# Suponiendo que la variable objetivo es 'target'\n",
    "if 'target' in df.columns:\n",
    "    correlations = df.corr()['target'].sort_values(ascending=False)\n",
    "    print(\"Correlaciones con la variable objetivo:\")\n",
    "    print(correlations)\n",
    "\n",
    "    # Visualización de correlaciones\n",
    "    sns.heatmap(df.corr(), annot=True, fmt=\".2f\", cmap='coolwarm')\n",
    "    plt.title(\"Mapa de calor de correlaciones\")\n",
    "    plt.show()\n",
    "else:\n",
    "    print(\"No se encontró una columna 'target'. Por favor, asegúrate de definir la variable objetivo.\")\n"
   ]
  },
  {
   "cell_type": "markdown",
   "metadata": {},
   "source": [
    "# Análisis de la Distribución de la Variable Objetivo"
   ]
  },
  {
   "cell_type": "code",
   "execution_count": 19,
   "metadata": {},
   "outputs": [
    {
     "name": "stdout",
     "output_type": "stream",
     "text": [
      "No se encontró una columna 'target'.\n"
     ]
    }
   ],
   "source": [
    "\n",
    "# Analizar la distribución de la variable objetivo\n",
    "if 'target' in df.columns:\n",
    "    sns.countplot(data=df, x='target')\n",
    "    plt.title(\"Distribución de la Variable Objetivo\")\n",
    "    plt.show()\n",
    "\n",
    "    # Propuesta de balanceo si hay desbalance significativo\n",
    "    counts = df['target'].value_counts()\n",
    "    print(\"Distribución de la variable objetivo:\")\n",
    "    print(counts)\n",
    "\n",
    "    if counts.min() / counts.max() < 0.5:  # Ejemplo: Desbalance si menor al 50%\n",
    "        print(\"Se detectó desbalance. Aplicando sobremuestreo de la clase minoritaria.\")\n",
    "        from sklearn.utils import resample\n",
    "        df_majority = df[df['target'] == counts.idxmax()]\n",
    "        df_minority = df[df['target'] == counts.idxmin()]\n",
    "\n",
    "        df_minority_upsampled = resample(df_minority, \n",
    "                                         replace=True, \n",
    "                                         n_samples=len(df_majority), \n",
    "                                         random_state=42)\n",
    "        df_balanced = pd.concat([df_majority, df_minority_upsampled])\n",
    "        print(\"Datos balanceados:\")\n",
    "        print(df_balanced['target'].value_counts())\n",
    "else:\n",
    "    print(\"No se encontró una columna 'target'.\")\n"
   ]
  },
  {
   "cell_type": "markdown",
   "metadata": {},
   "source": [
    "# Resumen del Análisis Exploratorio de Datos (EDA)"
   ]
  },
  {
   "cell_type": "code",
   "execution_count": 20,
   "metadata": {},
   "outputs": [
    {
     "name": "stdout",
     "output_type": "stream",
     "text": [
      "Resumen de hallazgos principales:\n",
      "- Estadísticas descriptivas calculadas y analizadas.\n",
      "- Valores faltantes tratados rellenando con la mediana.\n",
      "- Outliers identificados y tratados mediante recorte a límites aceptables.\n",
      "- Relaciones entre variables analizadas con métodos visuales y estadísticos.\n",
      "- Distribución de la variable objetivo analizada y balanceada si fue necesario.\n"
     ]
    }
   ],
   "source": [
    "\n",
    "print(\"Resumen de hallazgos principales:\")\n",
    "print(\"- Estadísticas descriptivas calculadas y analizadas.\")\n",
    "print(\"- Valores faltantes tratados rellenando con la mediana.\")\n",
    "print(\"- Outliers identificados y tratados mediante recorte a límites aceptables.\")\n",
    "print(\"- Relaciones entre variables analizadas con métodos visuales y estadísticos.\")\n",
    "print(\"- Distribución de la variable objetivo analizada y balanceada si fue necesario.\")\n"
   ]
  },
  {
   "cell_type": "code",
   "execution_count": null,
   "metadata": {},
   "outputs": [],
   "source": []
  },
  {
   "cell_type": "markdown",
   "metadata": {},
   "source": [
    "## Análisis Exploratorio de Datos (EDA)\n",
    "En esta sección se realizará un análisis exploratorio del conjunto de datos para comprender mejor sus características. Las tareas incluyen:\n",
    "- Análisis descriptivo básico.\n",
    "- Detección y manejo de valores faltantes.\n",
    "- Identificación y tratamiento de outliers.\n",
    "- Selección de características relevantes.\n",
    "- Análisis del balance de clases."
   ]
  },
  {
   "cell_type": "code",
   "execution_count": null,
   "metadata": {},
   "outputs": [],
   "source": [
    "# Importar librerías necesarias\n",
    "import pandas as pd\n",
    "import numpy as np\n",
    "import seaborn as sns\n",
    "import matplotlib.pyplot as plt\n",
    "from sklearn.ensemble import ExtraTreesClassifier\n",
    "from sklearn.model_selection import train_test_split\n",
    "from sklearn.metrics import classification_report, confusion_matrix\n",
    "from imblearn.over_sampling import SMOTE\n"
   ]
  },
  {
   "cell_type": "code",
   "execution_count": null,
   "metadata": {},
   "outputs": [],
   "source": [
    "# Cargar los datos\n",
    "data = pd.read_csv('/mnt/data/bank_dataset_tarea5.CSV')\n",
    "data.head()"
   ]
  },
  {
   "cell_type": "markdown",
   "metadata": {},
   "source": [
    "### Análisis Descriptivo Básico\n",
    "Se analizarán las estadísticas descriptivas del conjunto de datos."
   ]
  },
  {
   "cell_type": "code",
   "execution_count": null,
   "metadata": {},
   "outputs": [],
   "source": [
    "# Estadísticas descriptivas\n",
    "data.describe(include='all')"
   ]
  },
  {
   "cell_type": "markdown",
   "metadata": {},
   "source": [
    "### Detección y Gestión de Valores Faltantes\n",
    "Identificamos las columnas con valores faltantes y decidimos cómo manejarlas."
   ]
  },
  {
   "cell_type": "code",
   "execution_count": null,
   "metadata": {},
   "outputs": [],
   "source": [
    "# Valores faltantes\n",
    "data.isnull().sum()"
   ]
  },
  {
   "cell_type": "code",
   "execution_count": null,
   "metadata": {},
   "outputs": [],
   "source": [
    "# Imputación de valores faltantes\n",
    "data['age'].fillna(data['age'].median(), inplace=True)\n",
    "data['marital'].fillna(data['marital'].mode()[0], inplace=True)\n",
    "data['education'].fillna(data['education'].mode()[0], inplace=True)\n",
    "data.isnull().sum()  # Verificar que no queden valores faltantes"
   ]
  },
  {
   "cell_type": "markdown",
   "metadata": {},
   "source": [
    "### Detección y Tratamiento de Outliers\n",
    "Se identificarán outliers en las variables numéricas y se decidirá cómo manejarlos."
   ]
  },
  {
   "cell_type": "code",
   "execution_count": null,
   "metadata": {},
   "outputs": [],
   "source": [
    "# Identificar outliers usando el rango intercuartílico (IQR)\n",
    "numerical_columns = ['age', 'balance', 'duration', 'campaign', 'pdays', 'previous']\n",
    "for col in numerical_columns:\n",
    "    Q1 = data[col].quantile(0.25)\n",
    "    Q3 = data[col].quantile(0.75)\n",
    "    IQR = Q3 - Q1\n",
    "    lower_bound = Q1 - 1.5 * IQR\n",
    "    upper_bound = Q3 + 1.5 * IQR\n",
    "    outliers = data[(data[col] < lower_bound) | (data[col] > upper_bound)]\n",
    "    print(f'Columna {col}: {len(outliers)} outliers')"
   ]
  },
  {
   "cell_type": "markdown",
   "metadata": {},
   "source": [
    "### Identificación de Características Relevantes\n",
    "Utilizaremos un modelo de árboles para identificar las variables más importantes para predecir el objetivo `deposit`."
   ]
  },
  {
   "cell_type": "code",
   "execution_count": null,
   "metadata": {},
   "outputs": [],
   "source": [
    "# Codificar variables categóricas\n",
    "data_encoded = pd.get_dummies(data, drop_first=True)\n",
    "X = data_encoded.drop('deposit_yes', axis=1)\n",
    "y = data_encoded['deposit_yes']\n",
    "model = ExtraTreesClassifier()\n",
    "model.fit(X, y)\n",
    "feature_importances = pd.Series(model.feature_importances_, index=X.columns)\n",
    "feature_importances.nlargest(10).plot(kind='barh')\n",
    "plt.show()"
   ]
  },
  {
   "cell_type": "markdown",
   "metadata": {},
   "source": [
    "### Análisis del Desbalance de Clases\n",
    "Comprobamos si la variable objetivo está balanceada y aplicamos técnicas de sobremuestreo si es necesario."
   ]
  },
  {
   "cell_type": "code",
   "execution_count": null,
   "metadata": {},
   "outputs": [],
   "source": [
    "# Comprobar el balance de clases\n",
    "sns.countplot(x='deposit', data=data)\n",
    "plt.show()\n",
    "\n",
    "# Aplicar SMOTE si hay desbalance\n",
    "X_resampled, y_resampled = SMOTE().fit_resample(X, y)\n",
    "sns.countplot(x=y_resampled)\n",
    "plt.show()"
   ]
  },
  {
   "cell_type": "markdown",
   "metadata": {},
   "source": [
    "### Conclusión\n",
    "Se completó el análisis exploratorio de datos:\n",
    "- Se imputaron los valores faltantes.\n",
    "- Se identificaron outliers.\n",
    "- Se determinaron las características más relevantes.\n",
    "- Se manejó el desbalance de clases.\n",
    "\n",
    "Esto deja los datos preparados para el modelado."
   ]
  }
 ],
 "metadata": {
  "kernelspec": {
   "display_name": "Python 3 (ipykernel)",
   "language": "python",
   "name": "python3"
  },
  "language_info": {
   "codemirror_mode": {
    "name": "ipython",
    "version": 3
   },
   "file_extension": ".py",
   "mimetype": "text/x-python",
   "name": "python",
   "nbconvert_exporter": "python",
   "pygments_lexer": "ipython3",
   "version": "3.12.7"
  }
 },
 "nbformat": 4,
 "nbformat_minor": 4
}
